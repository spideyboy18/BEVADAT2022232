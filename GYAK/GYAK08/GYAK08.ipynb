{
 "cells": [
  {
   "cell_type": "code",
   "execution_count": 3,
   "metadata": {},
   "outputs": [],
   "source": [
    "%reload_ext autoreload\n",
    "%autoreload 2"
   ]
  },
  {
   "cell_type": "code",
   "execution_count": 10,
   "metadata": {},
   "outputs": [
    {
     "data": {
      "text/plain": [
       "array([-3.90100673, -2.1100517 , -6.08995177, -4.49799174, -4.29899674,\n",
       "       -2.3090467 , -4.10000174, -6.08995177, -4.49799174, -3.90100673,\n",
       "       -5.49296676, -1.71206169, -1.9110567 , -1.71206169, -2.1100517 ,\n",
       "       -4.69698675, -5.89095677, -3.70201173, -4.10000174, -5.89095677,\n",
       "       -1.9110567 , -5.09497675, -2.3090467 , -5.69196177, -5.49296676,\n",
       "       -6.08995177, -5.09497675, -6.08995177, -2.1100517 , -1.9110567 ])"
      ]
     },
     "execution_count": 10,
     "metadata": {},
     "output_type": "execute_result"
    }
   ],
   "source": [
    "from LinearRegressionSkeleton import LinearRegression\n",
    "\n",
    "model = LinearRegression()\n",
    "model.load_data()\n",
    "model.fit()\n",
    "model.predict(model.X_test)"
   ]
  }
 ],
 "metadata": {
  "kernelspec": {
   "display_name": "BEVADAT",
   "language": "python",
   "name": "python3"
  },
  "language_info": {
   "codemirror_mode": {
    "name": "ipython",
    "version": 3
   },
   "file_extension": ".py",
   "mimetype": "text/x-python",
   "name": "python",
   "nbconvert_exporter": "python",
   "pygments_lexer": "ipython3",
   "version": "3.9.13"
  },
  "orig_nbformat": 4
 },
 "nbformat": 4,
 "nbformat_minor": 2
}
