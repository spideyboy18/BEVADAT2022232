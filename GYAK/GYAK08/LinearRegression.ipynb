{
  "cells": [
    {
      "cell_type": "code",
      "execution_count": null,
      "metadata": {
        "id": "WirC4JJduu5J"
      },
      "outputs": [],
      "source": [
        "import pandas as pd\n",
        "import numpy as np\n",
        "from sklearn.datasets import load_iris\n",
        "from sklearn.model_selection import train_test_split\n",
        "from sklearn.metrics import accuracy_score\n",
        "\n",
        "from matplotlib import pyplot as plt"
      ]
    },
    {
      "cell_type": "code",
      "execution_count": null,
      "metadata": {
        "id": "7o4DG1f9uu5J"
      },
      "outputs": [],
      "source": [
        "# Load the iris dataset\n",
        "iris = load_iris()\n",
        "df = pd.DataFrame(iris.data, columns=iris.feature_names)\n",
        "df"
      ]
    },
    {
      "cell_type": "code",
      "execution_count": null,
      "metadata": {
        "id": "laJvHBxquu5K"
      },
      "outputs": [],
      "source": [
        "print(df.describe())"
      ]
    },
    {
      "cell_type": "code",
      "execution_count": null,
      "metadata": {
        "id": "deLFtIljuu5K"
      },
      "outputs": [],
      "source": [
        "iris.target_names"
      ]
    },
    {
      "cell_type": "code",
      "execution_count": null,
      "metadata": {
        "id": "1v07Homluu5L"
      },
      "outputs": [],
      "source": [
        "# Check for missing values\n",
        "print(df.isnull().sum())"
      ]
    },
    {
      "cell_type": "code",
      "source": [
        "iris.target.shape"
      ],
      "metadata": {
        "colab": {
          "base_uri": "https://localhost:8080/"
        },
        "id": "OvDsMfz4bjh0",
        "outputId": "c32bf7fb-3e40-4635-b017-17537c285558"
      },
      "execution_count": null,
      "outputs": [
        {
          "output_type": "execute_result",
          "data": {
            "text/plain": [
              "(150,)"
            ]
          },
          "metadata": {},
          "execution_count": 6
        }
      ]
    },
    {
      "cell_type": "code",
      "execution_count": null,
      "metadata": {
        "id": "NOMXOZ3Iuu5L"
      },
      "outputs": [],
      "source": [
        "import matplotlib.pyplot as plt\n",
        "import seaborn as sns\n",
        "\n",
        "df['target'] = iris.target\n",
        "sns.pairplot(df,hue='target')\n",
        "plt.show()"
      ]
    },
    {
      "cell_type": "markdown",
      "metadata": {
        "id": "fWnOCrrvuu5M"
      },
      "source": [
        "# Linear Regression"
      ]
    },
    {
      "cell_type": "markdown",
      "metadata": {
        "id": "PXNMaPVQuu5M"
      },
      "source": [
        "In statistics, linear regression is a linear approach to modelling the relationship between a dependent variable and one or more independent variables. Let X be the independent variable and Y be the dependent variable. We will define a linear relationship between these two variables as follows:"
      ]
    },
    {
      "cell_type": "code",
      "execution_count": null,
      "metadata": {
        "id": "wjL4tGDiuu5N"
      },
      "outputs": [],
      "source": [
        "X = df['petal length (cm)'].values\n",
        "y = df['petal width (cm)'].values"
      ]
    },
    {
      "cell_type": "code",
      "source": [
        "print(type(X))\n",
        "print(type(y))\n",
        "print(X.shape)\n",
        "print(y.shape)\n"
      ],
      "metadata": {
        "id": "I4kNcoovc7Mn"
      },
      "execution_count": null,
      "outputs": []
    },
    {
      "cell_type": "code",
      "execution_count": null,
      "metadata": {
        "id": "OFNXi-96uu5N"
      },
      "outputs": [],
      "source": [
        "# Split the data into training and testing sets\n",
        "X_train, X_test, y_train, y_test = train_test_split(X, y, test_size=0.2, random_state=42)"
      ]
    },
    {
      "cell_type": "code",
      "execution_count": null,
      "metadata": {
        "id": "3hQuJbnEuu5N"
      },
      "outputs": [],
      "source": [
        "plt.scatter(X_train, y_train)\n",
        "plt.show()"
      ]
    },
    {
      "cell_type": "code",
      "execution_count": null,
      "metadata": {
        "id": "o_WGL2lVuu5O"
      },
      "outputs": [],
      "source": [
        "# Building the model\n",
        "m = 0\n",
        "c = 0\n",
        "\n",
        "L = 0.0001  # The learning Rate\n",
        "epochs = 1000  # The number of iterations to perform gradient descent\n",
        "\n",
        "n = float(len(X_train)) # Number of elements in X\n",
        "\n",
        "# Performing Gradient Descent \n",
        "losses = []\n",
        "for i in range(epochs): \n",
        "    y_pred = m*X_train + c  # The current predicted value of Y\n",
        "\n",
        "    residuals = y_train - y_pred\n",
        "    loss = np.sum(residuals ** 2)\n",
        "    losses.append(loss)\n",
        "    D_m = (-2/n) * sum(X_train * residuals)  # Derivative wrt m\n",
        "    D_c = (-2/n) * sum(residuals)  # Derivative wrt c\n",
        "    m = m - L * D_m  # Update m\n",
        "    c = c - L * D_c  # Update c\n",
        "    if i % 100 == 0:\n",
        "        print(np.mean(y_train-y_pred))\n",
        "    "
      ]
    },
    {
      "cell_type": "code",
      "execution_count": null,
      "metadata": {
        "id": "Yyy1vgf8CPIS"
      },
      "outputs": [],
      "source": [
        "# Visualize the loss\n",
        "plt.plot(losses)"
      ]
    },
    {
      "cell_type": "code",
      "execution_count": null,
      "metadata": {
        "id": "IPWJ_OlpCPIS"
      },
      "outputs": [],
      "source": [
        "# Run the model on the test set\n",
        "pred = []\n",
        "for X in X_test:\n",
        "    y_pred = m*X + c\n",
        "    pred.append(y_pred)\n",
        "print(pred)\n",
        "print(y_test)"
      ]
    },
    {
      "cell_type": "code",
      "execution_count": null,
      "metadata": {
        "id": "sVkyAji1CPIT"
      },
      "outputs": [],
      "source": []
    },
    {
      "cell_type": "code",
      "execution_count": null,
      "metadata": {
        "id": "V2eM0e6tCPIT"
      },
      "outputs": [],
      "source": [
        "# Calculate the Mean Absolue Error\n",
        "print(\"Mean Absolute Error:\", np.mean(np.abs(y_pred - y_test)))\n",
        "\n",
        "# Calculate the Mean Squared Error\n",
        "print(\"Mean Squared Error:\", np.mean((y_pred - y_test)**2))\n"
      ]
    },
    {
      "cell_type": "code",
      "execution_count": null,
      "metadata": {
        "id": "b0zl92Chuu5O"
      },
      "outputs": [],
      "source": [
        "# Making predictions\n",
        "y_pred = m*X_test + c\n",
        "\n",
        "plt.scatter(X_test, y_test)\n",
        "plt.plot([min(X_test), max(X_test)], [min(y_pred), max(y_pred)], color='red') # predicted\n",
        "plt.show()"
      ]
    },
    {
      "cell_type": "code",
      "execution_count": null,
      "metadata": {
        "id": "AwNLfweDCPIT"
      },
      "outputs": [],
      "source": [
        "'''\n",
        "Your task:\n",
        "\n",
        "Create a LinearRegression class\n",
        "(Use the OOP Skeleton attached)\n",
        "\n",
        "Use the class to train and evaluate\n",
        "a model in the following columns of iris dataset:\n",
        "# X petal width\n",
        "# y sepal length\n",
        "\n",
        "'''"
      ]
    },
    {
      "cell_type": "code",
      "execution_count": null,
      "metadata": {
        "id": "Uv18Axv4CPIT"
      },
      "outputs": [],
      "source": []
    }
  ],
  "metadata": {
    "colab": {
      "provenance": []
    },
    "kernelspec": {
      "display_name": "Python 3",
      "language": "python",
      "name": "python3"
    },
    "language_info": {
      "codemirror_mode": {
        "name": "ipython",
        "version": 3
      },
      "file_extension": ".py",
      "mimetype": "text/x-python",
      "name": "python",
      "nbconvert_exporter": "python",
      "pygments_lexer": "ipython3",
      "version": "3.11.0"
    },
    "orig_nbformat": 4
  },
  "nbformat": 4,
  "nbformat_minor": 0
}