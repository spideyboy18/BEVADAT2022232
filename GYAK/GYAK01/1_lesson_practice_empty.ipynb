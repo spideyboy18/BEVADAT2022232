{
 "cells": [
  {
   "cell_type": "code",
   "execution_count": null,
   "metadata": {},
   "outputs": [],
   "source": [
    "#Create a function that decides if a list contains any odd numbers.\n",
    "#return type: bool\n",
    "#function name must be: contains_odd\n",
    "#input parameters: input_list"
   ]
  },
  {
   "cell_type": "code",
   "execution_count": 1,
   "metadata": {},
   "outputs": [
    {
     "data": {
      "text/plain": [
       "True"
      ]
     },
     "execution_count": 1,
     "metadata": {},
     "output_type": "execute_result"
    }
   ],
   "source": [
    "def contains_odd(input_list):\n",
    "     for number in input_list:\n",
    "        if number % 2 != 0:\n",
    "            return True\n",
    "     return False\n",
    "contains_odd([1,2,3,4,5])"
   ]
  },
  {
   "cell_type": "code",
   "execution_count": null,
   "metadata": {},
   "outputs": [],
   "source": [
    "#Create a function that accepts a list of integers, and returns a list of bool.\n",
    "#The return list should be a \"mask\" and indicate whether the list element is odd or not.\n",
    "#(return should look like this: [True,False,False,.....])\n",
    "#return type: list\n",
    "#function name must be: is_odd\n",
    "#input parameters: input_list"
   ]
  },
  {
   "cell_type": "code",
   "execution_count": 13,
   "metadata": {},
   "outputs": [
    {
     "data": {
      "text/plain": [
       "[True, False, True, False, True]"
      ]
     },
     "execution_count": 13,
     "metadata": {},
     "output_type": "execute_result"
    }
   ],
   "source": [
    "def is_odd(input_list):\n",
    "     result_list = []\n",
    "     i = 0\n",
    "     for number in input_list:\n",
    "        result_list.append(number % 2 != 0)\n",
    "        i+=1\n",
    "     return result_list\n",
    "is_odd([1,2,3,4,5])"
   ]
  },
  {
   "cell_type": "code",
   "execution_count": null,
   "metadata": {},
   "outputs": [],
   "source": [
    "\n",
    "#Create a function that accepts 2 lists of integers and returns their element wise sum. <br>\n",
    "#(return should be a list)\n",
    "#return type: list\n",
    "#function name must be: element_wise_sum\n",
    "#input parameters: input_list_1, input_list_2"
   ]
  },
  {
   "cell_type": "code",
   "execution_count": 14,
   "metadata": {},
   "outputs": [
    {
     "data": {
      "text/plain": [
       "[6, 8, 10, 12]"
      ]
     },
     "execution_count": 14,
     "metadata": {},
     "output_type": "execute_result"
    }
   ],
   "source": [
    "def element_wise_sum(input_list_1, input_list_2):\n",
    "    result = []\n",
    "    for i in range(len(input_list_1)):\n",
    "        result.append(input_list_1[i] + input_list_2[i])\n",
    "    return result\n",
    "element_wise_sum([1,2,3,4],[5,6,7,8,9])\n"
   ]
  },
  {
   "cell_type": "code",
   "execution_count": null,
   "metadata": {},
   "outputs": [],
   "source": [
    "#Create a function that accepts a dictionary and returns its items as a list of tuples\n",
    "#(return should look like this: [(key,value),(key,value),....])\n",
    "#return type: list\n",
    "#function name must be: dict_to_list\n",
    "#input parameters: input_dict"
   ]
  },
  {
   "cell_type": "code",
   "execution_count": 15,
   "metadata": {},
   "outputs": [
    {
     "data": {
      "text/plain": [
       "[('a', 1), ('b', 2), ('c', 3)]"
      ]
     },
     "execution_count": 15,
     "metadata": {},
     "output_type": "execute_result"
    }
   ],
   "source": [
    "def dict_to_list(input_dict):\n",
    "    result = []\n",
    "    for key, value in input_dict.items():\n",
    "        result.append((key, value))\n",
    "    return result\n",
    "dict_to_list({'a': 1, 'b': 2, 'c': 3})"
   ]
  },
  {
   "cell_type": "code",
   "execution_count": null,
   "metadata": {},
   "outputs": [],
   "source": [
    "#If all the functions are created convert this notebook into a .py file and push to your repo"
   ]
  }
 ],
 "metadata": {
  "kernelspec": {
   "display_name": "Python 3",
   "language": "python",
   "name": "python3"
  },
  "language_info": {
   "codemirror_mode": {
    "name": "ipython",
    "version": 3
   },
   "file_extension": ".py",
   "mimetype": "text/x-python",
   "name": "python",
   "nbconvert_exporter": "python",
   "pygments_lexer": "ipython3",
   "version": "3.9.13"
  },
  "orig_nbformat": 4,
  "vscode": {
   "interpreter": {
    "hash": "916dbcbb3f70747c44a77c7bcd40155683ae19c65e1c03b4aa3499c5328201f1"
   }
  }
 },
 "nbformat": 4,
 "nbformat_minor": 2
}
