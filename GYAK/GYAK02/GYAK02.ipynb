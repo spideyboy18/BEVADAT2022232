{
 "cells": [
  {
   "cell_type": "code",
   "execution_count": 154,
   "metadata": {},
   "outputs": [],
   "source": [
    "import numpy as np"
   ]
  },
  {
   "cell_type": "code",
   "execution_count": 155,
   "metadata": {},
   "outputs": [],
   "source": [
    "#FONTOS!!!\n",
    "\n",
    "# CSAK OTT LEHET HASZNÁLNI FOR LOOP-OT AHOL A FELADAT KÜLÖN KÉRI!\n",
    "# [1,2,3,4] --> ezek az értékek np.array-ek. Ahol listát kérek paraméterként ott külön ki fogom emelni!\n",
    "# Ha végeztél a feladatokkal, akkor notebook-ot alakítsd át .py.\n",
    "# A FÁJLBAN CSAK A FÜGGVÉNYEK LEGYENEK! (KOMMENTEK MARADHATNAK)"
   ]
  },
  {
   "cell_type": "code",
   "execution_count": 156,
   "metadata": {},
   "outputs": [],
   "source": [
    "#Készíts egy függvényt ami létre hoz egy nullákkal teli numpy array-t.\n",
    "#Paraméterei: mérete (tuple-ként), default mérete pedig legyen egy (2,2)\n",
    "#Be: (2,2)\n",
    "#Ki: [[0,0],[0,0]]\n",
    "#create_array()"
   ]
  },
  {
   "cell_type": "code",
   "execution_count": 157,
   "metadata": {},
   "outputs": [],
   "source": [
    "def create_array(size = (2,2))->np.ndarray:\n",
    "    return np.zeros(size)"
   ]
  },
  {
   "cell_type": "code",
   "execution_count": 158,
   "metadata": {},
   "outputs": [],
   "source": [
    "#Készíts egy függvényt ami a paraméterként kapott array-t főátlóját feltölti egyesekkel\n",
    "#Be: [[1,2],[3,4]]\n",
    "#Ki: [[1,2],[3,1]]\n",
    "#set_one()"
   ]
  },
  {
   "cell_type": "code",
   "execution_count": 159,
   "metadata": {},
   "outputs": [],
   "source": [
    "def set_one(input_array: np.ndarray)->np.ndarray:\n",
    "   result = np.array(input_array)\n",
    "   np.fill_diagonal(result, 1)\n",
    "   return result"
   ]
  },
  {
   "cell_type": "code",
   "execution_count": 160,
   "metadata": {},
   "outputs": [],
   "source": [
    "# Készíts egy függvényt ami transzponálja a paraméterül kapott mártix-ot:\n",
    "# Be: [[1, 2], [3, 4]]\n",
    "# Ki: [[1, 2], [3, 4]]\n",
    "# do_transpose()"
   ]
  },
  {
   "cell_type": "code",
   "execution_count": 161,
   "metadata": {},
   "outputs": [],
   "source": [
    "def do_transpose(input_array: np.ndarray)->np.ndarray:\n",
    "   return np.array(input_array).transpose()"
   ]
  },
  {
   "cell_type": "code",
   "execution_count": 162,
   "metadata": {},
   "outputs": [],
   "source": [
    "# Készíts egy olyan függvényt ami az array-ben lévő értékeket N tizenedjegyik kerekíti, ha nincs megadva ez a paraméter, akkor legyen az alapértelmezett a kettő \n",
    "# Be: [0.1223, 0.1675], 2\n",
    "# Ki: [0.12, 0.17]\n",
    "# round_array()"
   ]
  },
  {
   "cell_type": "code",
   "execution_count": 163,
   "metadata": {},
   "outputs": [],
   "source": [
    "def round_array(input_array: np.ndarray, n: int = 2)->np.ndarray:\n",
    "   return np.around(input_array, n)"
   ]
  },
  {
   "cell_type": "code",
   "execution_count": 164,
   "metadata": {},
   "outputs": [],
   "source": [
    "# Készíts egy olyan függvényt, ami a bementként kapott 0 és 1 ből álló tömben a 0 - False-ra, az 1 True-ra cserélni\n",
    "# Be: [[1, 0, 0], [1, 1, 1],[0, 0, 0]]\n",
    "# Ki: [[ True False False], [ True  True  True], [False False False]]\n",
    "# bool_array()"
   ]
  },
  {
   "cell_type": "code",
   "execution_count": 165,
   "metadata": {},
   "outputs": [],
   "source": [
    "def bool_array(input_array)->np.ndarray:\n",
    "   return np.array(input_array, dtype=bool)"
   ]
  },
  {
   "cell_type": "code",
   "execution_count": 166,
   "metadata": {},
   "outputs": [],
   "source": [
    "# Készíts egy olyan függvényt, ami a bementként kapott 0 és 1 ből álló tömben a 1 - False-ra az 0 True-ra cserélni\n",
    "# Be: [[1, 0, 0], [1, 1, 1],[0, 0, 0]]\n",
    "# Ki: [[ True False False], [ True  True  True], [False False False]]\n",
    "# invert_bool_array()"
   ]
  },
  {
   "cell_type": "code",
   "execution_count": 167,
   "metadata": {},
   "outputs": [],
   "source": [
    "def invert_bool_array(input_array: np.ndarray)->np.ndarray:\n",
    "   return np.invert(np.array(input_array, dtype=bool))"
   ]
  },
  {
   "cell_type": "code",
   "execution_count": 168,
   "metadata": {},
   "outputs": [],
   "source": [
    "# Készíts egy olyan függvényt ami a paraméterként kapott array-t kilapítja\n",
    "# Be: [[1,2], [3,4]]\n",
    "# Ki: [1,2,3,4]\n",
    "# flatten()\n"
   ]
  },
  {
   "cell_type": "code",
   "execution_count": 169,
   "metadata": {},
   "outputs": [],
   "source": [
    "def flatten(input_array: np.ndarray)->np.ndarray:\n",
    "   return np.array(input_array).flatten()"
   ]
  }
 ],
 "metadata": {
  "kernelspec": {
   "display_name": "Python 3",
   "language": "python",
   "name": "python3"
  },
  "language_info": {
   "codemirror_mode": {
    "name": "ipython",
    "version": 3
   },
   "file_extension": ".py",
   "mimetype": "text/x-python",
   "name": "python",
   "nbconvert_exporter": "python",
   "pygments_lexer": "ipython3",
   "version": "3.10.7"
  },
  "orig_nbformat": 4
 },
 "nbformat": 4,
 "nbformat_minor": 2
}
