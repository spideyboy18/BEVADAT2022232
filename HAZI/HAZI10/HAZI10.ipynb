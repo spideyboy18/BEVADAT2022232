{
  "cells": [
    {
      "cell_type": "code",
      "execution_count": 13,
      "metadata": {
        "id": "IUUbvRdFDvEj"
      },
      "outputs": [],
      "source": [
        "import tensorflow as tf\n",
        "from tensorflow.keras import layers"
      ]
    },
    {
      "cell_type": "code",
      "execution_count": 14,
      "metadata": {
        "colab": {
          "base_uri": "https://localhost:8080/",
          "height": 71
        },
        "id": "3wKxR9oADvEk",
        "outputId": "740eeba6-513a-401e-cbd8-490afef594bb"
      },
      "outputs": [
        {
          "data": {
            "text/plain": [
              "'\\nKészíts egy metódust ami a mnist adatbázisból betölti a train és test adatokat. (tf.keras.datasets.mnist.load_data())\\nMajd a tanitó, és tesztelő adatokat normalizálja, és vissza is tér velük.\\n\\n\\nEgy példa a kimenetre: train_images, train_labels, test_images, test_labels\\nfüggvény neve: mnist_digit_data\\n'"
            ]
          },
          "execution_count": 14,
          "metadata": {},
          "output_type": "execute_result"
        }
      ],
      "source": [
        "'''\n",
        "Készíts egy metódust ami a mnist adatbázisból betölti a train és test adatokat. (tf.keras.datasets.mnist.load_data())\n",
        "Majd a tanitó, és tesztelő adatokat normalizálja, és vissza is tér velük.\n",
        "\n",
        "\n",
        "Egy példa a kimenetre: train_images, train_labels, test_images, test_labels\n",
        "függvény neve: mnist_digit_data\n",
        "'''"
      ]
    },
    {
      "cell_type": "code",
      "execution_count": 15,
      "metadata": {
        "id": "i959jXU6DvEk"
      },
      "outputs": [],
      "source": [
        "def mnist_digit_data():\n",
        "    (train_images, train_labels), (test_images, test_labels) = tf.keras.datasets.mnist.load_data()\n",
        "    train_images = train_images / 255.0\n",
        "    test_images = test_images / 255.0\n",
        "    return train_images, train_labels, test_images, test_labels"
      ]
    },
    {
      "cell_type": "code",
      "execution_count": 16,
      "metadata": {
        "colab": {
          "base_uri": "https://localhost:8080/",
          "height": 71
        },
        "id": "7hqSx2sUDvEl",
        "outputId": "60c95f2a-8081-4a26-a6bb-9e661aa367b0"
      },
      "outputs": [
        {
          "data": {
            "text/plain": [
              "'\\nKészíts egy neurális hálót, ami képes felismerni a kézírásos számokat.\\nA háló kimenete legyen 10 elemű, és a softmax aktivációs függvényt használja.\\nHálon belül tetszőleges számú réteg lehet.\\n\\n\\nEgy példa a kimenetre: model,\\nreturn type: keras.engine.sequential.Sequential\\nfüggvény neve: mnist_model\\n'"
            ]
          },
          "execution_count": 16,
          "metadata": {},
          "output_type": "execute_result"
        }
      ],
      "source": [
        "'''\n",
        "Készíts egy neurális hálót, ami képes felismerni a kézírásos számokat.\n",
        "A háló kimenete legyen 10 elemű, és a softmax aktivációs függvényt használja.\n",
        "Hálon belül tetszőleges számú réteg lehet.\n",
        "\n",
        "\n",
        "Egy példa a kimenetre: model,\n",
        "return type: keras.engine.sequential.Sequential\n",
        "függvény neve: mnist_model\n",
        "'''"
      ]
    },
    {
      "cell_type": "code",
      "execution_count": 17,
      "metadata": {
        "id": "_OJj7mcVDvEl"
      },
      "outputs": [],
      "source": [
        "def mnist_model():\n",
        "    # Modell létrehozása\n",
        "    model = tf.keras.Sequential([\n",
        "        layers.Flatten(input_shape=(28, 28)),\n",
        "        layers.Dense(128, activation='relu'), \n",
        "        layers.Dense(64, activation='relu'),\n",
        "        layers.Dense(10, activation='softmax')\n",
        "    ])\n",
        "\n",
        "    return model"
      ]
    },
    {
      "cell_type": "code",
      "execution_count": 18,
      "metadata": {
        "colab": {
          "base_uri": "https://localhost:8080/",
          "height": 53
        },
        "id": "DnJljRBDDvEl",
        "outputId": "343792fc-4369-4f94-ad8e-61bb28ebd5ab"
      },
      "outputs": [
        {
          "data": {
            "text/plain": [
              "'\\nKészíts egy metódust, ami a bemeneti hálot compile-olja.\\nOptimizer: Adam\\nLoss: SparseCategoricalCrossentropy(from_logits=False)\\n\\nEgy példa a bemenetre: model\\nEgy példa a kimenetre: model\\nreturn type: keras.engine.sequential.Sequential\\nfüggvény neve: model_compile\\n'"
            ]
          },
          "execution_count": 18,
          "metadata": {},
          "output_type": "execute_result"
        }
      ],
      "source": [
        "'''\n",
        "Készíts egy metódust, ami a bemeneti hálot compile-olja.\n",
        "Optimizer: Adam\n",
        "Loss: SparseCategoricalCrossentropy(from_logits=False)\n",
        "\n",
        "Egy példa a bemenetre: model\n",
        "Egy példa a kimenetre: model\n",
        "return type: keras.engine.sequential.Sequential\n",
        "függvény neve: model_compile\n",
        "'''"
      ]
    },
    {
      "cell_type": "code",
      "execution_count": 19,
      "metadata": {
        "id": "CRq6J6-rDvEl"
      },
      "outputs": [],
      "source": [
        "def model_compile(model):\n",
        "    optimizer = tf.keras.optimizers.Adam()\n",
        "    loss = tf.keras.losses.SparseCategoricalCrossentropy(from_logits=False)\n",
        "    model.compile(optimizer=optimizer, loss=loss, metrics=['accuracy'])\n",
        "    return model"
      ]
    },
    {
      "cell_type": "code",
      "execution_count": 20,
      "metadata": {
        "colab": {
          "base_uri": "https://localhost:8080/",
          "height": 53
        },
        "id": "qkUblp8uDvEl",
        "outputId": "8236eb64-dbdf-41b4-f163-9f77e01d2829"
      },
      "outputs": [
        {
          "data": {
            "text/plain": [
              "'\\nKészíts egy metódust, ami a bemeneti hálót feltanítja.\\n\\nEgy példa a bemenetre: model,epochs, train_images, train_labels\\nEgy példa a kimenetre: model\\nreturn type: keras.engine.sequential.Sequential\\nfüggvény neve: model_fit\\n'"
            ]
          },
          "execution_count": 20,
          "metadata": {},
          "output_type": "execute_result"
        }
      ],
      "source": [
        "'''\n",
        "Készíts egy metódust, ami a bemeneti hálót feltanítja.\n",
        "\n",
        "Egy példa a bemenetre: model,epochs, train_images, train_labels\n",
        "Egy példa a kimenetre: model\n",
        "return type: keras.engine.sequential.Sequential\n",
        "függvény neve: model_fit\n",
        "'''"
      ]
    },
    {
      "cell_type": "code",
      "execution_count": 21,
      "metadata": {
        "id": "eT-Y9n7iDvEl"
      },
      "outputs": [],
      "source": [
        "def model_fit(model, epochs, train_images, train_labels):\n",
        "    model.fit(train_images, train_labels, epochs=epochs, validation_split=0.2)\n",
        "    return model"
      ]
    },
    {
      "cell_type": "code",
      "execution_count": 22,
      "metadata": {
        "colab": {
          "base_uri": "https://localhost:8080/",
          "height": 53
        },
        "id": "2MCVDzgMDvEl",
        "outputId": "a572aff7-dc4d-45a5-8d15-3f3a07070d04"
      },
      "outputs": [
        {
          "data": {
            "text/plain": [
              "'\\nKészíts egy metódust, ami a bemeneti hálót kiértékeli a teszt adatokon.\\n\\nEgy példa a bemenetre: model, test_images, test_labels\\nEgy példa a kimenetre: test_loss, test_acc\\nreturn type: float, float\\nfüggvény neve: model_evaluate\\n'"
            ]
          },
          "execution_count": 22,
          "metadata": {},
          "output_type": "execute_result"
        }
      ],
      "source": [
        "'''\n",
        "Készíts egy metódust, ami a bemeneti hálót kiértékeli a teszt adatokon.\n",
        "\n",
        "Egy példa a bemenetre: model, test_images, test_labels\n",
        "Egy példa a kimenetre: test_loss, test_acc\n",
        "return type: float, float\n",
        "függvény neve: model_evaluate\n",
        "'''"
      ]
    },
    {
      "cell_type": "code",
      "execution_count": 23,
      "metadata": {
        "id": "HkAhvSzsDvEl"
      },
      "outputs": [],
      "source": [
        "def model_evaluate(model, test_images, test_labels):\n",
        "    test_loss, test_acc = model.evaluate(test_images, test_labels)\n",
        "    return test_loss, test_acc"
      ]
    },
    {
      "cell_type": "code",
      "execution_count": 24,
      "metadata": {
        "colab": {
          "base_uri": "https://localhost:8080/"
        },
        "id": "DXdrrV6bFGGQ",
        "outputId": "52d250aa-fbb7-447b-a46d-fbcb1819a644"
      },
      "outputs": [
        {
          "name": "stdout",
          "output_type": "stream",
          "text": [
            "Epoch 1/5\n",
            "1500/1500 [==============================] - 5s 3ms/step - loss: 0.2676 - accuracy: 0.9211 - val_loss: 0.1341 - val_accuracy: 0.9608\n",
            "Epoch 2/5\n",
            "1500/1500 [==============================] - 4s 3ms/step - loss: 0.1150 - accuracy: 0.9652 - val_loss: 0.1073 - val_accuracy: 0.9688\n",
            "Epoch 3/5\n",
            "1500/1500 [==============================] - 4s 3ms/step - loss: 0.0786 - accuracy: 0.9759 - val_loss: 0.0947 - val_accuracy: 0.9710\n",
            "Epoch 4/5\n",
            "1500/1500 [==============================] - 4s 3ms/step - loss: 0.0580 - accuracy: 0.9819 - val_loss: 0.0895 - val_accuracy: 0.9729\n",
            "Epoch 5/5\n",
            "1500/1500 [==============================] - 4s 3ms/step - loss: 0.0480 - accuracy: 0.9843 - val_loss: 0.0963 - val_accuracy: 0.9735\n",
            "313/313 [==============================] - 1s 2ms/step - loss: 0.0797 - accuracy: 0.9757\n",
            "Test accurancy: 0.9757000207901001\n"
          ]
        }
      ],
      "source": [
        "train_images, train_labels, test_images, test_labels = mnist_digit_data()\n",
        "model = mnist_model()\n",
        "model_compile(model)\n",
        "model_fit(model, epochs=5, train_images=train_images, train_labels=train_labels)\n",
        "test_loss, test_acc = model_evaluate(model, test_images, test_labels)\n",
        "print(f\"Test accurancy: {test_acc}\") "
      ]
    },
    {
      "cell_type": "code",
      "execution_count": null,
      "metadata": {
        "id": "t8AE0XgGFF6D"
      },
      "outputs": [],
      "source": []
    }
  ],
  "metadata": {
    "colab": {
      "provenance": []
    },
    "kernelspec": {
      "display_name": "Python 3",
      "language": "python",
      "name": "python3"
    },
    "language_info": {
      "codemirror_mode": {
        "name": "ipython",
        "version": 3
      },
      "file_extension": ".py",
      "mimetype": "text/x-python",
      "name": "python",
      "nbconvert_exporter": "python",
      "pygments_lexer": "ipython3",
      "version": "3.9.13"
    },
    "orig_nbformat": 4
  },
  "nbformat": 4,
  "nbformat_minor": 0
}
